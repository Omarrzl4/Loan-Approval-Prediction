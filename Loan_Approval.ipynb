{
  "nbformat": 4,
  "nbformat_minor": 0,
  "metadata": {
    "colab": {
      "provenance": []
    },
    "kernelspec": {
      "name": "python3",
      "display_name": "Python 3"
    },
    "language_info": {
      "name": "python"
    }
  },
  "cells": [
    {
      "cell_type": "markdown",
      "source": [
        "# Importing Necessary Libraries"
      ],
      "metadata": {
        "id": "0RePGagJN1YG"
      }
    },
    {
      "cell_type": "code",
      "execution_count": 16,
      "metadata": {
        "colab": {
          "base_uri": "https://localhost:8080/"
        },
        "id": "6ETs9ocTA90C",
        "outputId": "fd197986-9bbe-4e01-91f3-29434214f893"
      },
      "outputs": [
        {
          "output_type": "stream",
          "name": "stdout",
          "text": [
            "Path to dataset files: /kaggle/input/loan-approval-prediction-dataset\n"
          ]
        }
      ],
      "source": [
        "import kagglehub\n",
        "from sklearn.model_selection import train_test_split\n",
        "from sklearn.ensemble import RandomForestClassifier\n",
        "from sklearn.metrics import precision_score, recall_score, f1_score, classification_report, accuracy_score\n",
        "from sklearn.preprocessing import LabelEncoder\n",
        "import pandas as pd\n",
        "import os\n",
        "# Download latest version\n",
        "path = kagglehub.dataset_download(\"architsharma01/loan-approval-prediction-dataset\")\n",
        "\n",
        "print(\"Path to dataset files:\", path)"
      ]
    },
    {
      "cell_type": "code",
      "source": [
        "print(os.listdir(path))"
      ],
      "metadata": {
        "colab": {
          "base_uri": "https://localhost:8080/"
        },
        "id": "mPT0y0dIDMaU",
        "outputId": "b4703b41-c025-4572-d25e-394647250ed3"
      },
      "execution_count": 17,
      "outputs": [
        {
          "output_type": "stream",
          "name": "stdout",
          "text": [
            "['loan_approval_dataset.csv']\n"
          ]
        }
      ]
    },
    {
      "cell_type": "markdown",
      "source": [
        "# Data Visualization"
      ],
      "metadata": {
        "id": "nKsutF2jOGnr"
      }
    },
    {
      "cell_type": "code",
      "source": [
        "df = pd.read_csv(os.path.join(path, \"loan_approval_dataset.csv\"))\n",
        "print(df.head())\n"
      ],
      "metadata": {
        "colab": {
          "base_uri": "https://localhost:8080/"
        },
        "id": "THHdXzxEDBy_",
        "outputId": "b08969b0-56a3-410b-cdf9-c8c9b0398b9e"
      },
      "execution_count": 18,
      "outputs": [
        {
          "output_type": "stream",
          "name": "stdout",
          "text": [
            "   loan_id   no_of_dependents      education  self_employed   income_annum  \\\n",
            "0        1                  2       Graduate             No        9600000   \n",
            "1        2                  0   Not Graduate            Yes        4100000   \n",
            "2        3                  3       Graduate             No        9100000   \n",
            "3        4                  3       Graduate             No        8200000   \n",
            "4        5                  5   Not Graduate            Yes        9800000   \n",
            "\n",
            "    loan_amount   loan_term   cibil_score   residential_assets_value  \\\n",
            "0      29900000          12           778                    2400000   \n",
            "1      12200000           8           417                    2700000   \n",
            "2      29700000          20           506                    7100000   \n",
            "3      30700000           8           467                   18200000   \n",
            "4      24200000          20           382                   12400000   \n",
            "\n",
            "    commercial_assets_value   luxury_assets_value   bank_asset_value  \\\n",
            "0                  17600000              22700000            8000000   \n",
            "1                   2200000               8800000            3300000   \n",
            "2                   4500000              33300000           12800000   \n",
            "3                   3300000              23300000            7900000   \n",
            "4                   8200000              29400000            5000000   \n",
            "\n",
            "   loan_status  \n",
            "0     Approved  \n",
            "1     Rejected  \n",
            "2     Rejected  \n",
            "3     Rejected  \n",
            "4     Rejected  \n"
          ]
        }
      ]
    },
    {
      "cell_type": "code",
      "source": [
        "df.info()"
      ],
      "metadata": {
        "colab": {
          "base_uri": "https://localhost:8080/"
        },
        "id": "_P8QEsFCDvig",
        "outputId": "ec2eb60e-dbfc-42d2-b4b2-b3fc49f5f9e7"
      },
      "execution_count": 19,
      "outputs": [
        {
          "output_type": "stream",
          "name": "stdout",
          "text": [
            "<class 'pandas.core.frame.DataFrame'>\n",
            "RangeIndex: 4269 entries, 0 to 4268\n",
            "Data columns (total 13 columns):\n",
            " #   Column                     Non-Null Count  Dtype \n",
            "---  ------                     --------------  ----- \n",
            " 0   loan_id                    4269 non-null   int64 \n",
            " 1    no_of_dependents          4269 non-null   int64 \n",
            " 2    education                 4269 non-null   object\n",
            " 3    self_employed             4269 non-null   object\n",
            " 4    income_annum              4269 non-null   int64 \n",
            " 5    loan_amount               4269 non-null   int64 \n",
            " 6    loan_term                 4269 non-null   int64 \n",
            " 7    cibil_score               4269 non-null   int64 \n",
            " 8    residential_assets_value  4269 non-null   int64 \n",
            " 9    commercial_assets_value   4269 non-null   int64 \n",
            " 10   luxury_assets_value       4269 non-null   int64 \n",
            " 11   bank_asset_value          4269 non-null   int64 \n",
            " 12   loan_status               4269 non-null   object\n",
            "dtypes: int64(10), object(3)\n",
            "memory usage: 433.7+ KB\n"
          ]
        }
      ]
    },
    {
      "cell_type": "code",
      "source": [
        "df.shape"
      ],
      "metadata": {
        "colab": {
          "base_uri": "https://localhost:8080/"
        },
        "id": "kqzG1tX-DGti",
        "outputId": "478b4fff-d2ee-4c9a-e5f7-f5ceeb4ffd47"
      },
      "execution_count": 20,
      "outputs": [
        {
          "output_type": "execute_result",
          "data": {
            "text/plain": [
              "(4269, 13)"
            ]
          },
          "metadata": {},
          "execution_count": 20
        }
      ]
    },
    {
      "cell_type": "code",
      "source": [
        "df.isnull().any()"
      ],
      "metadata": {
        "colab": {
          "base_uri": "https://localhost:8080/",
          "height": 492
        },
        "id": "hvJ5uY50EJhd",
        "outputId": "7fada4bf-e336-497e-9c61-ef1974281d26"
      },
      "execution_count": 21,
      "outputs": [
        {
          "output_type": "execute_result",
          "data": {
            "text/plain": [
              "loan_id                      False\n",
              " no_of_dependents            False\n",
              " education                   False\n",
              " self_employed               False\n",
              " income_annum                False\n",
              " loan_amount                 False\n",
              " loan_term                   False\n",
              " cibil_score                 False\n",
              " residential_assets_value    False\n",
              " commercial_assets_value     False\n",
              " luxury_assets_value         False\n",
              " bank_asset_value            False\n",
              " loan_status                 False\n",
              "dtype: bool"
            ],
            "text/html": [
              "<div>\n",
              "<style scoped>\n",
              "    .dataframe tbody tr th:only-of-type {\n",
              "        vertical-align: middle;\n",
              "    }\n",
              "\n",
              "    .dataframe tbody tr th {\n",
              "        vertical-align: top;\n",
              "    }\n",
              "\n",
              "    .dataframe thead th {\n",
              "        text-align: right;\n",
              "    }\n",
              "</style>\n",
              "<table border=\"1\" class=\"dataframe\">\n",
              "  <thead>\n",
              "    <tr style=\"text-align: right;\">\n",
              "      <th></th>\n",
              "      <th>0</th>\n",
              "    </tr>\n",
              "  </thead>\n",
              "  <tbody>\n",
              "    <tr>\n",
              "      <th>loan_id</th>\n",
              "      <td>False</td>\n",
              "    </tr>\n",
              "    <tr>\n",
              "      <th>no_of_dependents</th>\n",
              "      <td>False</td>\n",
              "    </tr>\n",
              "    <tr>\n",
              "      <th>education</th>\n",
              "      <td>False</td>\n",
              "    </tr>\n",
              "    <tr>\n",
              "      <th>self_employed</th>\n",
              "      <td>False</td>\n",
              "    </tr>\n",
              "    <tr>\n",
              "      <th>income_annum</th>\n",
              "      <td>False</td>\n",
              "    </tr>\n",
              "    <tr>\n",
              "      <th>loan_amount</th>\n",
              "      <td>False</td>\n",
              "    </tr>\n",
              "    <tr>\n",
              "      <th>loan_term</th>\n",
              "      <td>False</td>\n",
              "    </tr>\n",
              "    <tr>\n",
              "      <th>cibil_score</th>\n",
              "      <td>False</td>\n",
              "    </tr>\n",
              "    <tr>\n",
              "      <th>residential_assets_value</th>\n",
              "      <td>False</td>\n",
              "    </tr>\n",
              "    <tr>\n",
              "      <th>commercial_assets_value</th>\n",
              "      <td>False</td>\n",
              "    </tr>\n",
              "    <tr>\n",
              "      <th>luxury_assets_value</th>\n",
              "      <td>False</td>\n",
              "    </tr>\n",
              "    <tr>\n",
              "      <th>bank_asset_value</th>\n",
              "      <td>False</td>\n",
              "    </tr>\n",
              "    <tr>\n",
              "      <th>loan_status</th>\n",
              "      <td>False</td>\n",
              "    </tr>\n",
              "  </tbody>\n",
              "</table>\n",
              "</div><br><label><b>dtype:</b> bool</label>"
            ]
          },
          "metadata": {},
          "execution_count": 21
        }
      ]
    },
    {
      "cell_type": "code",
      "source": [
        "df.columns"
      ],
      "metadata": {
        "colab": {
          "base_uri": "https://localhost:8080/"
        },
        "id": "Qrcxy1dfJ32D",
        "outputId": "d62d3ee2-dd18-4a20-db84-19e1e23156b9"
      },
      "execution_count": 22,
      "outputs": [
        {
          "output_type": "execute_result",
          "data": {
            "text/plain": [
              "Index(['loan_id', ' no_of_dependents', ' education', ' self_employed',\n",
              "       ' income_annum', ' loan_amount', ' loan_term', ' cibil_score',\n",
              "       ' residential_assets_value', ' commercial_assets_value',\n",
              "       ' luxury_assets_value', ' bank_asset_value', ' loan_status'],\n",
              "      dtype='object')"
            ]
          },
          "metadata": {},
          "execution_count": 22
        }
      ]
    },
    {
      "cell_type": "markdown",
      "source": [
        "# Splitting, Training and Predicting"
      ],
      "metadata": {
        "id": "a-BT-TZfNr2Z"
      }
    },
    {
      "cell_type": "code",
      "source": [
        "X = df.drop(\" loan_status\", axis=1)\n",
        "y = df[\" loan_status\"]\n",
        "\n",
        "\n",
        "l = LabelEncoder()\n",
        "y = l.fit_transform(y)\n",
        "\n",
        "X = pd.get_dummies(X)\n",
        "\n",
        "X_train, X_test, y_train, y_test = train_test_split(X, y, test_size=0.2, random_state=42)\n",
        "\n",
        "model = RandomForestClassifier()\n",
        "model.fit(X_train, y_train)\n",
        "\n",
        "y_pred = model.predict(X_test)\n",
        "\n",
        "print(\"Accuracy:\", accuracy_score(y_test, y_pred))\n",
        "print(classification_report(y_test, y_pred))"
      ],
      "metadata": {
        "id": "pYU2v3fcFR3e",
        "colab": {
          "base_uri": "https://localhost:8080/"
        },
        "outputId": "1dede109-fd47-430d-e21e-3ac8486f37d2"
      },
      "execution_count": 23,
      "outputs": [
        {
          "output_type": "stream",
          "name": "stdout",
          "text": [
            "Accuracy: 0.9742388758782201\n",
            "              precision    recall  f1-score   support\n",
            "\n",
            "           0       0.98      0.98      0.98       536\n",
            "           1       0.97      0.96      0.97       318\n",
            "\n",
            "    accuracy                           0.97       854\n",
            "   macro avg       0.97      0.97      0.97       854\n",
            "weighted avg       0.97      0.97      0.97       854\n",
            "\n"
          ]
        }
      ]
    },
    {
      "cell_type": "markdown",
      "source": [
        "# Evaluation"
      ],
      "metadata": {
        "id": "JObGfOVpNG7-"
      }
    },
    {
      "cell_type": "code",
      "source": [
        "print(\"Precision:%\", precision_score(y_test, y_pred, average='weighted')*100)\n",
        "print(\"Recall:%\", recall_score(y_test, y_pred, average='weighted')*100)\n",
        "print(\"F1 Score:%\", f1_score(y_test, y_pred, average='weighted')*100)"
      ],
      "metadata": {
        "colab": {
          "base_uri": "https://localhost:8080/"
        },
        "id": "gtwA7jJyJGV9",
        "outputId": "2b606914-cfcd-44be-cc99-3658a514fdf8"
      },
      "execution_count": 26,
      "outputs": [
        {
          "output_type": "stream",
          "name": "stdout",
          "text": [
            "Precision:% 97.421738479481\n",
            "Recall:% 97.42388758782201\n",
            "F1 Score:% 97.42052364638688\n"
          ]
        }
      ]
    },
    {
      "cell_type": "code",
      "source": [],
      "metadata": {
        "id": "0uUDoRAxNWd7"
      },
      "execution_count": null,
      "outputs": []
    }
  ]
}